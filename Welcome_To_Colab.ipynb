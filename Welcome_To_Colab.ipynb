{
  "cells": [
    {
      "cell_type": "markdown",
      "metadata": {
        "id": "view-in-github",
        "colab_type": "text"
      },
      "source": [
        "<a href=\"https://colab.research.google.com/github/Adeel777eng/TASK-No.1/blob/main/Welcome_To_Colab.ipynb\" target=\"_parent\"><img src=\"https://colab.research.google.com/assets/colab-badge.svg\" alt=\"Open In Colab\"/></a>"
      ]
    },
    {
      "cell_type": "code",
      "source": [
        "import pandas as pd\n",
        "import numpy as np\n",
        "from sklearn.model_selection import train_test_split, GridSearchCV\n",
        "from sklearn.preprocessing import StandardScaler, OneHotEncoder\n",
        "from sklearn.compose import ColumnTransformer\n",
        "from sklearn.pipeline import Pipeline\n",
        "from sklearn.linear_model import LogisticRegression\n",
        "from sklearn.ensemble import RandomForestClassifier\n",
        "from sklearn.metrics import classification_report, accuracy_score\n",
        "import joblib\n",
        "\n",
        "# Loading dataset\n",
        "df = pd.read_csv(\"WA_Fn-UseC_-Telco-Customer-Churn.csv\")\n",
        "\n",
        "# Drop customerID\n",
        "df.drop(\"customerID\", axis=1, inplace=True)\n",
        "\n",
        "# Converting TotalCharges to numeric\n",
        "df[\"TotalCharges\"] = pd.to_numeric(df[\"TotalCharges\"], errors=\"coerce\")\n",
        "df[\"TotalCharges\"].fillna(df[\"TotalCharges\"].median(), inplace=True)\n",
        "\n",
        "# Target variable\n",
        "y = df[\"Churn\"].map({\"Yes\": 1, \"No\": 0})\n",
        "X = df.drop(\"Churn\", axis=1)\n",
        "\n",
        "# Train-test split\n",
        "X_train, X_test, y_train, y_test = train_test_split(\n",
        "    X, y, test_size=0.2, random_state=42, stratify=y\n",
        ")\n",
        "\n",
        "# Preprocessing pipeline\n",
        "numeric_features = X.select_dtypes(include=[\"int64\", \"float64\"]).columns\n",
        "categorical_features = X.select_dtypes(include=[\"object\"]).columns\n",
        "\n",
        "numeric_transformer = Pipeline(steps=[\n",
        "    (\"scaler\", StandardScaler())\n",
        "])\n",
        "\n",
        "categorical_transformer = Pipeline(steps=[\n",
        "    (\"encoder\", OneHotEncoder(handle_unknown=\"ignore\"))\n",
        "])\n",
        "\n",
        "preprocessor = ColumnTransformer(\n",
        "    transformers=[\n",
        "        (\"num\", numeric_transformer, numeric_features),\n",
        "        (\"cat\", categorical_transformer, categorical_features),\n",
        "    ]\n",
        ")\n",
        "\n",
        "# Define models\n",
        "log_reg = Pipeline(steps=[\n",
        "    (\"preprocessor\", preprocessor),\n",
        "    (\"classifier\", LogisticRegression(max_iter=500))\n",
        "])\n",
        "\n",
        "rf_clf = Pipeline(steps=[\n",
        "    (\"preprocessor\", preprocessor),\n",
        "    (\"classifier\", RandomForestClassifier())\n",
        "])\n",
        "# Hyperparameter grids\n",
        "param_grid_lr = {\n",
        "    \"classifier__C\": [0.01, 0.1, 1, 10],\n",
        "    \"classifier__solver\": [\"liblinear\", \"lbfgs\"]\n",
        "}\n",
        "\n",
        "param_grid_rf = {\n",
        "    \"classifier__n_estimators\": [100, 200],\n",
        "    \"classifier__max_depth\": [None, 10, 20],\n",
        "    \"classifier__min_samples_split\": [2, 5]\n",
        "}\n",
        "\n",
        "# GridSearchCV\n",
        "print(\"Tuning Logistic Regression...\")\n",
        "grid_lr = GridSearchCV(log_reg, param_grid_lr, cv=5, scoring=\"accuracy\", n_jobs=-1)\n",
        "grid_lr.fit(X_train, y_train)\n",
        "\n",
        "print(\"Best Logistic Regression Params:\", grid_lr.best_params_)\n",
        "print(\"Validation Accuracy:\", grid_lr.best_score_)\n",
        "\n",
        "print(\"\\nTuning Random Forest...\")\n",
        "grid_rf = GridSearchCV(rf_clf, param_grid_rf, cv=5, scoring=\"accuracy\", n_jobs=-1)\n",
        "grid_rf.fit(X_train, y_train)\n",
        "\n",
        "print(\"Best Random Forest Params:\", grid_rf.best_params_)\n",
        "print(\"Validation Accuracy:\", grid_rf.best_score_)\n",
        "\n",
        "# Final evaluation\n",
        "best_model = grid_rf if grid_rf.best_score_ > grid_lr.best_score_ else grid_lr\n",
        "\n",
        "y_pred = best_model.predict(X_test)\n",
        "print(\"\\nTest Accuracy:\", accuracy_score(y_test, y_pred))\n",
        "print(classification_report(y_test, y_pred))\n",
        "# Export pipeline\n",
        "joblib.dump(best_model, \"churn_prediction_pipeline.joblib\")\n",
        "print(\"\\n✅ Pipeline exported as churn_prediction_pipeline.joblib\")\n"
      ],
      "metadata": {
        "id": "FQuebKnrR2y0",
        "outputId": "6f041144-3fd3-4fe6-926c-f855e264d0d0",
        "colab": {
          "base_uri": "https://localhost:8080/"
        }
      },
      "execution_count": 1,
      "outputs": [
        {
          "output_type": "stream",
          "name": "stdout",
          "text": [
            "Tuning Logistic Regression...\n"
          ]
        },
        {
          "output_type": "stream",
          "name": "stderr",
          "text": [
            "/tmp/ipython-input-3144459329.py:20: FutureWarning: A value is trying to be set on a copy of a DataFrame or Series through chained assignment using an inplace method.\n",
            "The behavior will change in pandas 3.0. This inplace method will never work because the intermediate object on which we are setting values always behaves as a copy.\n",
            "\n",
            "For example, when doing 'df[col].method(value, inplace=True)', try using 'df.method({col: value}, inplace=True)' or df[col] = df[col].method(value) instead, to perform the operation inplace on the original object.\n",
            "\n",
            "\n",
            "  df[\"TotalCharges\"].fillna(df[\"TotalCharges\"].median(), inplace=True)\n"
          ]
        },
        {
          "output_type": "stream",
          "name": "stdout",
          "text": [
            "Best Logistic Regression Params: {'classifier__C': 10, 'classifier__solver': 'lbfgs'}\n",
            "Validation Accuracy: 0.8049317495165493\n",
            "\n",
            "Tuning Random Forest...\n",
            "Best Random Forest Params: {'classifier__max_depth': 10, 'classifier__min_samples_split': 5, 'classifier__n_estimators': 200}\n",
            "Validation Accuracy: 0.8004953498891254\n",
            "\n",
            "Test Accuracy: 0.8055358410220014\n",
            "              precision    recall  f1-score   support\n",
            "\n",
            "           0       0.85      0.89      0.87      1035\n",
            "           1       0.66      0.56      0.60       374\n",
            "\n",
            "    accuracy                           0.81      1409\n",
            "   macro avg       0.75      0.73      0.74      1409\n",
            "weighted avg       0.80      0.81      0.80      1409\n",
            "\n",
            "\n",
            "✅ Pipeline exported as churn_prediction_pipeline.joblib\n"
          ]
        }
      ]
    }
  ],
  "metadata": {
    "colab": {
      "name": "Welcome To Colab",
      "provenance": [],
      "include_colab_link": true
    },
    "kernelspec": {
      "display_name": "Python 3",
      "name": "python3"
    }
  },
  "nbformat": 4,
  "nbformat_minor": 0
}